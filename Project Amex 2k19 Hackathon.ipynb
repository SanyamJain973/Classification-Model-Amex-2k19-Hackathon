{
 "cells": [
  {
   "cell_type": "code",
   "execution_count": 1,
   "metadata": {},
   "outputs": [],
   "source": [
    "import pandas as pd"
   ]
  },
  {
   "cell_type": "code",
   "execution_count": 2,
   "metadata": {},
   "outputs": [],
   "source": [
    "test_data_path = 'C:/Users/SHYAM/Desktop/csv files/amex2k19/test.csv'\n",
    "train_data_path = 'C:/Users/SHYAM/Desktop/csv files/amex2k19/train.csv'\n",
    "campaign_data_path = 'C:/Users/SHYAM/Desktop/csv files/amex2k19/campaign_data.csv'\n",
    "cim_data_path = 'C:/Users/SHYAM/Desktop/csv files/amex2k19/coupon_item_mapping.csv'\n",
    "cd_data_path = 'C:/Users/SHYAM/Desktop/csv files/amex2k19/customer_demographics.csv'\n",
    "ct_data_path = 'C:/Users/SHYAM/Desktop/csv files/amex2k19/customer_transaction_data.csv'\n",
    "item_data_path = 'C:/Users/SHYAM/Desktop/csv files/amex2k19/item_data.csv'\n",
    "\n",
    "test_raw_data = pd.read_csv(test_data_path)\n",
    "train_raw_data = pd.read_csv(train_data_path)\n",
    "campaign_raw_data = pd.read_csv(campaign_data_path)\n",
    "cim_raw_data = pd.read_csv(cim_data_path)\n",
    "cd_raw_data = pd.read_csv(cd_data_path)\n",
    "ct_raw_data = pd.read_csv(ct_data_path)\n",
    "item_raw_data = pd.read_csv(item_data_path)"
   ]
  },
  {
   "cell_type": "code",
   "execution_count": 3,
   "metadata": {
    "scrolled": true
   },
   "outputs": [
    {
     "name": "stdout",
     "output_type": "stream",
     "text": [
      "<class 'pandas.core.frame.DataFrame'>\n",
      "RangeIndex: 50226 entries, 0 to 50225\n",
      "Data columns (total 4 columns):\n",
      "id             50226 non-null int64\n",
      "campaign_id    50226 non-null int64\n",
      "coupon_id      50226 non-null int64\n",
      "customer_id    50226 non-null int64\n",
      "dtypes: int64(4)\n",
      "memory usage: 1.5 MB\n"
     ]
    }
   ],
   "source": [
    "test_raw_data.info()"
   ]
  },
  {
   "cell_type": "code",
   "execution_count": 4,
   "metadata": {},
   "outputs": [
    {
     "data": {
      "text/plain": [
       "[50226, 10, 331, 1250]"
      ]
     },
     "execution_count": 4,
     "metadata": {},
     "output_type": "execute_result"
    }
   ],
   "source": [
    "list(test_raw_data.nunique())"
   ]
  },
  {
   "cell_type": "code",
   "execution_count": 5,
   "metadata": {},
   "outputs": [
    {
     "name": "stdout",
     "output_type": "stream",
     "text": [
      "<class 'pandas.core.frame.DataFrame'>\n",
      "RangeIndex: 78369 entries, 0 to 78368\n",
      "Data columns (total 5 columns):\n",
      "id                   78369 non-null int64\n",
      "campaign_id          78369 non-null int64\n",
      "coupon_id            78369 non-null int64\n",
      "customer_id          78369 non-null int64\n",
      "redemption_status    78369 non-null int64\n",
      "dtypes: int64(5)\n",
      "memory usage: 3.0 MB\n"
     ]
    }
   ],
   "source": [
    "train_raw_data.info()"
   ]
  },
  {
   "cell_type": "code",
   "execution_count": 6,
   "metadata": {},
   "outputs": [
    {
     "data": {
      "text/plain": [
       "[78369, 18, 866, 1428, 2]"
      ]
     },
     "execution_count": 6,
     "metadata": {},
     "output_type": "execute_result"
    }
   ],
   "source": [
    "list(train_raw_data.nunique())"
   ]
  },
  {
   "cell_type": "code",
   "execution_count": 7,
   "metadata": {},
   "outputs": [
    {
     "name": "stdout",
     "output_type": "stream",
     "text": [
      "<class 'pandas.core.frame.DataFrame'>\n",
      "RangeIndex: 28 entries, 0 to 27\n",
      "Data columns (total 4 columns):\n",
      "campaign_id      28 non-null int64\n",
      "campaign_type    28 non-null object\n",
      "start_date       28 non-null object\n",
      "end_date         28 non-null object\n",
      "dtypes: int64(1), object(3)\n",
      "memory usage: 1.0+ KB\n"
     ]
    }
   ],
   "source": [
    "campaign_raw_data.info()"
   ]
  },
  {
   "cell_type": "code",
   "execution_count": 8,
   "metadata": {},
   "outputs": [
    {
     "data": {
      "text/plain": [
       "[28, 2, 25, 26]"
      ]
     },
     "execution_count": 8,
     "metadata": {},
     "output_type": "execute_result"
    }
   ],
   "source": [
    "list(campaign_raw_data.nunique())"
   ]
  },
  {
   "cell_type": "code",
   "execution_count": 9,
   "metadata": {},
   "outputs": [
    {
     "name": "stdout",
     "output_type": "stream",
     "text": [
      "<class 'pandas.core.frame.DataFrame'>\n",
      "RangeIndex: 92663 entries, 0 to 92662\n",
      "Data columns (total 2 columns):\n",
      "coupon_id    92663 non-null int64\n",
      "item_id      92663 non-null int64\n",
      "dtypes: int64(2)\n",
      "memory usage: 1.4 MB\n"
     ]
    }
   ],
   "source": [
    "cim_raw_data.info()"
   ]
  },
  {
   "cell_type": "code",
   "execution_count": 10,
   "metadata": {},
   "outputs": [
    {
     "data": {
      "text/plain": [
       "[1116, 36289]"
      ]
     },
     "execution_count": 10,
     "metadata": {},
     "output_type": "execute_result"
    }
   ],
   "source": [
    "list(cim_raw_data.nunique())"
   ]
  },
  {
   "cell_type": "code",
   "execution_count": 11,
   "metadata": {},
   "outputs": [
    {
     "name": "stdout",
     "output_type": "stream",
     "text": [
      "<class 'pandas.core.frame.DataFrame'>\n",
      "RangeIndex: 760 entries, 0 to 759\n",
      "Data columns (total 7 columns):\n",
      "customer_id       760 non-null int64\n",
      "age_range         760 non-null object\n",
      "marital_status    431 non-null object\n",
      "rented            760 non-null int64\n",
      "family_size       760 non-null object\n",
      "no_of_children    222 non-null object\n",
      "income_bracket    760 non-null int64\n",
      "dtypes: int64(3), object(4)\n",
      "memory usage: 41.7+ KB\n"
     ]
    }
   ],
   "source": [
    "cd_raw_data.info()"
   ]
  },
  {
   "cell_type": "code",
   "execution_count": 12,
   "metadata": {},
   "outputs": [
    {
     "data": {
      "text/plain": [
       "[760, 6, 2, 2, 5, 3, 12]"
      ]
     },
     "execution_count": 12,
     "metadata": {},
     "output_type": "execute_result"
    }
   ],
   "source": [
    "list(cd_raw_data.nunique())"
   ]
  },
  {
   "cell_type": "code",
   "execution_count": 13,
   "metadata": {},
   "outputs": [
    {
     "name": "stdout",
     "output_type": "stream",
     "text": [
      "<class 'pandas.core.frame.DataFrame'>\n",
      "RangeIndex: 1324566 entries, 0 to 1324565\n",
      "Data columns (total 7 columns):\n",
      "date               1324566 non-null object\n",
      "customer_id        1324566 non-null int64\n",
      "item_id            1324566 non-null int64\n",
      "quantity           1324566 non-null int64\n",
      "selling_price      1324566 non-null float64\n",
      "other_discount     1324566 non-null float64\n",
      "coupon_discount    1324566 non-null float64\n",
      "dtypes: float64(3), int64(3), object(1)\n",
      "memory usage: 70.7+ MB\n"
     ]
    }
   ],
   "source": [
    "ct_raw_data.info()"
   ]
  },
  {
   "cell_type": "code",
   "execution_count": 14,
   "metadata": {},
   "outputs": [
    {
     "data": {
      "text/plain": [
       "[549, 1582, 74063, 9252, 4923, 1418, 232]"
      ]
     },
     "execution_count": 14,
     "metadata": {},
     "output_type": "execute_result"
    }
   ],
   "source": [
    "list(ct_raw_data.nunique())"
   ]
  },
  {
   "cell_type": "code",
   "execution_count": 15,
   "metadata": {},
   "outputs": [
    {
     "name": "stdout",
     "output_type": "stream",
     "text": [
      "<class 'pandas.core.frame.DataFrame'>\n",
      "RangeIndex: 74066 entries, 0 to 74065\n",
      "Data columns (total 4 columns):\n",
      "item_id       74066 non-null int64\n",
      "brand         74066 non-null int64\n",
      "brand_type    74066 non-null object\n",
      "category      74066 non-null object\n",
      "dtypes: int64(2), object(2)\n",
      "memory usage: 2.3+ MB\n"
     ]
    }
   ],
   "source": [
    "item_raw_data.info()"
   ]
  },
  {
   "cell_type": "code",
   "execution_count": 16,
   "metadata": {},
   "outputs": [
    {
     "data": {
      "text/plain": [
       "[74066, 5528, 2, 19]"
      ]
     },
     "execution_count": 16,
     "metadata": {},
     "output_type": "execute_result"
    }
   ],
   "source": [
    "list(item_raw_data.nunique())"
   ]
  },
  {
   "cell_type": "code",
   "execution_count": 17,
   "metadata": {},
   "outputs": [
    {
     "data": {
      "text/plain": [
       "10"
      ]
     },
     "execution_count": 17,
     "metadata": {},
     "output_type": "execute_result"
    }
   ],
   "source": [
    "len((set(test_raw_data['campaign_id'])).intersection(set(campaign_raw_data['campaign_id'])))"
   ]
  },
  {
   "cell_type": "code",
   "execution_count": 18,
   "metadata": {},
   "outputs": [
    {
     "data": {
      "text/plain": [
       "18"
      ]
     },
     "execution_count": 18,
     "metadata": {},
     "output_type": "execute_result"
    }
   ],
   "source": [
    "len((set(train_raw_data['campaign_id'])).intersection(set(campaign_raw_data['campaign_id'])))"
   ]
  },
  {
   "cell_type": "code",
   "execution_count": 19,
   "metadata": {},
   "outputs": [
    {
     "data": {
      "text/plain": [
       "331"
      ]
     },
     "execution_count": 19,
     "metadata": {},
     "output_type": "execute_result"
    }
   ],
   "source": [
    "len((set(test_raw_data['coupon_id'])).intersection(set(cim_raw_data['coupon_id'])))"
   ]
  },
  {
   "cell_type": "code",
   "execution_count": 20,
   "metadata": {},
   "outputs": [
    {
     "data": {
      "text/plain": [
       "866"
      ]
     },
     "execution_count": 20,
     "metadata": {},
     "output_type": "execute_result"
    }
   ],
   "source": [
    "len((set(train_raw_data['coupon_id'])).intersection(set(cim_raw_data['coupon_id'])))"
   ]
  },
  {
   "cell_type": "code",
   "execution_count": 21,
   "metadata": {},
   "outputs": [
    {
     "data": {
      "text/plain": [
       "1250"
      ]
     },
     "execution_count": 21,
     "metadata": {},
     "output_type": "execute_result"
    }
   ],
   "source": [
    "len((set(test_raw_data['customer_id'])).intersection(set(ct_raw_data['customer_id'])))"
   ]
  },
  {
   "cell_type": "code",
   "execution_count": 22,
   "metadata": {},
   "outputs": [
    {
     "data": {
      "text/plain": [
       "1428"
      ]
     },
     "execution_count": 22,
     "metadata": {},
     "output_type": "execute_result"
    }
   ],
   "source": [
    "len((set(train_raw_data['customer_id'])).intersection(set(ct_raw_data['customer_id'])))"
   ]
  },
  {
   "cell_type": "code",
   "execution_count": 23,
   "metadata": {},
   "outputs": [
    {
     "data": {
      "text/plain": [
       "697"
      ]
     },
     "execution_count": 23,
     "metadata": {},
     "output_type": "execute_result"
    }
   ],
   "source": [
    "len((set(test_raw_data['customer_id'])).intersection(set(cd_raw_data['customer_id'])))"
   ]
  },
  {
   "cell_type": "code",
   "execution_count": 24,
   "metadata": {},
   "outputs": [
    {
     "data": {
      "text/plain": [
       "703"
      ]
     },
     "execution_count": 24,
     "metadata": {},
     "output_type": "execute_result"
    }
   ],
   "source": [
    "len((set(train_raw_data['customer_id'])).intersection(set(cd_raw_data['customer_id'])))"
   ]
  },
  {
   "cell_type": "code",
   "execution_count": 25,
   "metadata": {},
   "outputs": [],
   "source": [
    "df_coupon_item_merged = cim_raw_data.merge(item_raw_data, on='item_id')"
   ]
  },
  {
   "cell_type": "code",
   "execution_count": 26,
   "metadata": {},
   "outputs": [
    {
     "name": "stdout",
     "output_type": "stream",
     "text": [
      "<class 'pandas.core.frame.DataFrame'>\n",
      "Int64Index: 92663 entries, 0 to 92662\n",
      "Data columns (total 5 columns):\n",
      "coupon_id     92663 non-null int64\n",
      "item_id       92663 non-null int64\n",
      "brand         92663 non-null int64\n",
      "brand_type    92663 non-null object\n",
      "category      92663 non-null object\n",
      "dtypes: int64(3), object(2)\n",
      "memory usage: 4.2+ MB\n"
     ]
    }
   ],
   "source": [
    "df_coupon_item_merged.info()"
   ]
  },
  {
   "cell_type": "code",
   "execution_count": 27,
   "metadata": {},
   "outputs": [],
   "source": [
    "df_coupon_item_merged_gb_coupon_id = df_coupon_item_merged.groupby('coupon_id')"
   ]
  },
  {
   "cell_type": "code",
   "execution_count": 28,
   "metadata": {},
   "outputs": [],
   "source": [
    "df_train_data_merged = train_raw_data.merge(campaign_raw_data, on='campaign_id')"
   ]
  },
  {
   "cell_type": "code",
   "execution_count": 29,
   "metadata": {},
   "outputs": [
    {
     "name": "stdout",
     "output_type": "stream",
     "text": [
      "<class 'pandas.core.frame.DataFrame'>\n",
      "Int64Index: 78369 entries, 0 to 78368\n",
      "Data columns (total 8 columns):\n",
      "id                   78369 non-null int64\n",
      "campaign_id          78369 non-null int64\n",
      "coupon_id            78369 non-null int64\n",
      "customer_id          78369 non-null int64\n",
      "redemption_status    78369 non-null int64\n",
      "campaign_type        78369 non-null object\n",
      "start_date           78369 non-null object\n",
      "end_date             78369 non-null object\n",
      "dtypes: int64(5), object(3)\n",
      "memory usage: 5.4+ MB\n"
     ]
    }
   ],
   "source": [
    "df_train_data_merged.info()"
   ]
  },
  {
   "cell_type": "code",
   "execution_count": 30,
   "metadata": {},
   "outputs": [
    {
     "data": {
      "text/plain": [
       "[78369, 18, 866, 1428, 2, 2, 17, 17]"
      ]
     },
     "execution_count": 30,
     "metadata": {},
     "output_type": "execute_result"
    }
   ],
   "source": [
    "list(df_train_data_merged.nunique())"
   ]
  },
  {
   "cell_type": "code",
   "execution_count": 31,
   "metadata": {},
   "outputs": [],
   "source": [
    "df_test_data_merged = test_raw_data.merge(campaign_raw_data, on='campaign_id')"
   ]
  },
  {
   "cell_type": "code",
   "execution_count": 32,
   "metadata": {},
   "outputs": [
    {
     "data": {
      "text/plain": [
       "[50226, 10, 331, 1250, 2, 8, 9]"
      ]
     },
     "execution_count": 32,
     "metadata": {},
     "output_type": "execute_result"
    }
   ],
   "source": [
    "list(df_test_data_merged.nunique())"
   ]
  },
  {
   "cell_type": "code",
   "execution_count": 33,
   "metadata": {},
   "outputs": [],
   "source": [
    "df_train_data_merged['coupon_item_count'] = df_train_data_merged.apply(lambda x: (df_coupon_item_merged_gb_coupon_id.get_group(x['coupon_id'])['item_id']).count(), axis=1)\n",
    "df_train_data_merged['coupon_item_brand'] = df_train_data_merged.apply(lambda x: (df_coupon_item_merged_gb_coupon_id.get_group(x['coupon_id'])['brand']).nunique(), axis=1)\n",
    "df_train_data_merged['coupon_item_brand_type'] = df_train_data_merged.apply(lambda x: (df_coupon_item_merged_gb_coupon_id.get_group(x['coupon_id'])['brand_type']).nunique(), axis=1)\n",
    "\n",
    "df_test_data_merged['coupon_item_count'] = df_test_data_merged.apply(lambda x: (df_coupon_item_merged_gb_coupon_id.get_group(x['coupon_id'])['item_id']).count(), axis=1)\n",
    "df_test_data_merged['coupon_item_brand'] = df_test_data_merged.apply(lambda x: (df_coupon_item_merged_gb_coupon_id.get_group(x['coupon_id'])['brand']).nunique(), axis=1)\n",
    "df_test_data_merged['coupon_item_brand_type'] = df_test_data_merged.apply(lambda x: (df_coupon_item_merged_gb_coupon_id.get_group(x['coupon_id'])['brand_type']).nunique(), axis=1)\n"
   ]
  },
  {
   "cell_type": "code",
   "execution_count": 34,
   "metadata": {},
   "outputs": [],
   "source": [
    "df_ct_merged_gb_customer_id = ct_raw_data.groupby('customer_id')"
   ]
  },
  {
   "cell_type": "code",
   "execution_count": 35,
   "metadata": {},
   "outputs": [],
   "source": [
    "df_train_data_merged['customer_transaction_count'] = df_train_data_merged.apply(lambda x: len(df_ct_merged_gb_customer_id.get_group(x['customer_id'])), axis=1)\n",
    "df_train_data_merged['transaction_start_date'] = df_train_data_merged.apply(lambda x: (df_ct_merged_gb_customer_id.get_group(x['customer_id'])['date']).min(), axis=1)\n",
    "df_train_data_merged['transaction_end_date'] = df_train_data_merged.apply(lambda x: (df_ct_merged_gb_customer_id.get_group(x['customer_id'])['date']).max(), axis=1)\n",
    "df_train_data_merged['transaction_unique_item'] = df_train_data_merged.apply(lambda x: (df_ct_merged_gb_customer_id.get_group(x['customer_id'])['item_id']).nunique(), axis=1)\n",
    "\n",
    "df_test_data_merged['customer_transaction_count'] = df_test_data_merged.apply(lambda x: len(df_ct_merged_gb_customer_id.get_group(x['customer_id'])), axis=1)\n",
    "df_test_data_merged['transaction_start_date'] = df_test_data_merged.apply(lambda x: (df_ct_merged_gb_customer_id.get_group(x['customer_id'])['date']).min(), axis=1)\n",
    "df_test_data_merged['transaction_end_date'] = df_test_data_merged.apply(lambda x: (df_ct_merged_gb_customer_id.get_group(x['customer_id'])['date']).max(), axis=1)\n",
    "df_test_data_merged['transaction_unique_item'] = df_test_data_merged.apply(lambda x: (df_ct_merged_gb_customer_id.get_group(x['customer_id'])['item_id']).nunique(), axis=1)\n"
   ]
  },
  {
   "cell_type": "code",
   "execution_count": 36,
   "metadata": {},
   "outputs": [],
   "source": [
    "df_train_data_merged.to_csv('amex_2k19_hackathon.csv', index=False)\n",
    "df_test_data_merged.to_csv('amex_2k19_hackathon.csv', index=False)"
   ]
  },
  {
   "cell_type": "code",
   "execution_count": 37,
   "metadata": {},
   "outputs": [
    {
     "data": {
      "text/html": [
       "<div>\n",
       "<style scoped>\n",
       "    .dataframe tbody tr th:only-of-type {\n",
       "        vertical-align: middle;\n",
       "    }\n",
       "\n",
       "    .dataframe tbody tr th {\n",
       "        vertical-align: top;\n",
       "    }\n",
       "\n",
       "    .dataframe thead th {\n",
       "        text-align: right;\n",
       "    }\n",
       "</style>\n",
       "<table border=\"1\" class=\"dataframe\">\n",
       "  <thead>\n",
       "    <tr style=\"text-align: right;\">\n",
       "      <th></th>\n",
       "      <th>id</th>\n",
       "      <th>campaign_id</th>\n",
       "      <th>coupon_id</th>\n",
       "      <th>customer_id</th>\n",
       "      <th>redemption_status</th>\n",
       "      <th>campaign_type</th>\n",
       "      <th>start_date</th>\n",
       "      <th>end_date</th>\n",
       "      <th>coupon_item_count</th>\n",
       "      <th>coupon_item_brand</th>\n",
       "      <th>coupon_item_brand_type</th>\n",
       "      <th>customer_transaction_count</th>\n",
       "      <th>transaction_start_date</th>\n",
       "      <th>transaction_end_date</th>\n",
       "      <th>transaction_unique_item</th>\n",
       "    </tr>\n",
       "  </thead>\n",
       "  <tbody>\n",
       "    <tr>\n",
       "      <td>0</td>\n",
       "      <td>1</td>\n",
       "      <td>13</td>\n",
       "      <td>27</td>\n",
       "      <td>1053</td>\n",
       "      <td>0</td>\n",
       "      <td>X</td>\n",
       "      <td>19/05/13</td>\n",
       "      <td>05/07/13</td>\n",
       "      <td>125</td>\n",
       "      <td>2</td>\n",
       "      <td>1</td>\n",
       "      <td>310</td>\n",
       "      <td>2012-01-10</td>\n",
       "      <td>2013-07-01</td>\n",
       "      <td>208</td>\n",
       "    </tr>\n",
       "    <tr>\n",
       "      <td>1</td>\n",
       "      <td>2</td>\n",
       "      <td>13</td>\n",
       "      <td>116</td>\n",
       "      <td>48</td>\n",
       "      <td>0</td>\n",
       "      <td>X</td>\n",
       "      <td>19/05/13</td>\n",
       "      <td>05/07/13</td>\n",
       "      <td>3</td>\n",
       "      <td>1</td>\n",
       "      <td>1</td>\n",
       "      <td>385</td>\n",
       "      <td>2012-03-04</td>\n",
       "      <td>2013-06-13</td>\n",
       "      <td>244</td>\n",
       "    </tr>\n",
       "    <tr>\n",
       "      <td>2</td>\n",
       "      <td>7</td>\n",
       "      <td>13</td>\n",
       "      <td>644</td>\n",
       "      <td>1050</td>\n",
       "      <td>0</td>\n",
       "      <td>X</td>\n",
       "      <td>19/05/13</td>\n",
       "      <td>05/07/13</td>\n",
       "      <td>4</td>\n",
       "      <td>1</td>\n",
       "      <td>1</td>\n",
       "      <td>237</td>\n",
       "      <td>2012-02-14</td>\n",
       "      <td>2013-06-19</td>\n",
       "      <td>216</td>\n",
       "    </tr>\n",
       "    <tr>\n",
       "      <td>3</td>\n",
       "      <td>21</td>\n",
       "      <td>13</td>\n",
       "      <td>1028</td>\n",
       "      <td>89</td>\n",
       "      <td>0</td>\n",
       "      <td>X</td>\n",
       "      <td>19/05/13</td>\n",
       "      <td>05/07/13</td>\n",
       "      <td>6</td>\n",
       "      <td>1</td>\n",
       "      <td>1</td>\n",
       "      <td>668</td>\n",
       "      <td>2012-04-06</td>\n",
       "      <td>2013-06-28</td>\n",
       "      <td>498</td>\n",
       "    </tr>\n",
       "    <tr>\n",
       "      <td>4</td>\n",
       "      <td>23</td>\n",
       "      <td>13</td>\n",
       "      <td>517</td>\n",
       "      <td>1067</td>\n",
       "      <td>0</td>\n",
       "      <td>X</td>\n",
       "      <td>19/05/13</td>\n",
       "      <td>05/07/13</td>\n",
       "      <td>3</td>\n",
       "      <td>1</td>\n",
       "      <td>1</td>\n",
       "      <td>970</td>\n",
       "      <td>2012-03-23</td>\n",
       "      <td>2013-07-02</td>\n",
       "      <td>533</td>\n",
       "    </tr>\n",
       "  </tbody>\n",
       "</table>\n",
       "</div>"
      ],
      "text/plain": [
       "   id  campaign_id  coupon_id  customer_id  redemption_status campaign_type  \\\n",
       "0   1           13         27         1053                  0             X   \n",
       "1   2           13        116           48                  0             X   \n",
       "2   7           13        644         1050                  0             X   \n",
       "3  21           13       1028           89                  0             X   \n",
       "4  23           13        517         1067                  0             X   \n",
       "\n",
       "  start_date  end_date  coupon_item_count  coupon_item_brand  \\\n",
       "0   19/05/13  05/07/13                125                  2   \n",
       "1   19/05/13  05/07/13                  3                  1   \n",
       "2   19/05/13  05/07/13                  4                  1   \n",
       "3   19/05/13  05/07/13                  6                  1   \n",
       "4   19/05/13  05/07/13                  3                  1   \n",
       "\n",
       "   coupon_item_brand_type  customer_transaction_count transaction_start_date  \\\n",
       "0                       1                         310             2012-01-10   \n",
       "1                       1                         385             2012-03-04   \n",
       "2                       1                         237             2012-02-14   \n",
       "3                       1                         668             2012-04-06   \n",
       "4                       1                         970             2012-03-23   \n",
       "\n",
       "  transaction_end_date  transaction_unique_item  \n",
       "0           2013-07-01                      208  \n",
       "1           2013-06-13                      244  \n",
       "2           2013-06-19                      216  \n",
       "3           2013-06-28                      498  \n",
       "4           2013-07-02                      533  "
      ]
     },
     "execution_count": 37,
     "metadata": {},
     "output_type": "execute_result"
    }
   ],
   "source": [
    "df_train_data_merged.head()"
   ]
  },
  {
   "cell_type": "code",
   "execution_count": 38,
   "metadata": {},
   "outputs": [],
   "source": [
    "df_train_data_merged = df_train_data_merged.astype('category')"
   ]
  },
  {
   "cell_type": "code",
   "execution_count": 39,
   "metadata": {},
   "outputs": [],
   "source": [
    "for col in df_train_data_merged.columns:\n",
    "    df_train_data_merged[col] = df_train_data_merged[col].cat.codes"
   ]
  },
  {
   "cell_type": "code",
   "execution_count": 40,
   "metadata": {},
   "outputs": [
    {
     "data": {
      "text/html": [
       "<div>\n",
       "<style scoped>\n",
       "    .dataframe tbody tr th:only-of-type {\n",
       "        vertical-align: middle;\n",
       "    }\n",
       "\n",
       "    .dataframe tbody tr th {\n",
       "        vertical-align: top;\n",
       "    }\n",
       "\n",
       "    .dataframe thead th {\n",
       "        text-align: right;\n",
       "    }\n",
       "</style>\n",
       "<table border=\"1\" class=\"dataframe\">\n",
       "  <thead>\n",
       "    <tr style=\"text-align: right;\">\n",
       "      <th></th>\n",
       "      <th>id</th>\n",
       "      <th>campaign_id</th>\n",
       "      <th>coupon_id</th>\n",
       "      <th>customer_id</th>\n",
       "      <th>redemption_status</th>\n",
       "      <th>campaign_type</th>\n",
       "      <th>start_date</th>\n",
       "      <th>end_date</th>\n",
       "      <th>coupon_item_count</th>\n",
       "      <th>coupon_item_brand</th>\n",
       "      <th>coupon_item_brand_type</th>\n",
       "      <th>customer_transaction_count</th>\n",
       "      <th>transaction_start_date</th>\n",
       "      <th>transaction_end_date</th>\n",
       "      <th>transaction_unique_item</th>\n",
       "    </tr>\n",
       "  </thead>\n",
       "  <tbody>\n",
       "    <tr>\n",
       "      <td>0</td>\n",
       "      <td>0</td>\n",
       "      <td>12</td>\n",
       "      <td>26</td>\n",
       "      <td>960</td>\n",
       "      <td>0</td>\n",
       "      <td>0</td>\n",
       "      <td>11</td>\n",
       "      <td>3</td>\n",
       "      <td>88</td>\n",
       "      <td>1</td>\n",
       "      <td>0</td>\n",
       "      <td>114</td>\n",
       "      <td>8</td>\n",
       "      <td>90</td>\n",
       "      <td>97</td>\n",
       "    </tr>\n",
       "    <tr>\n",
       "      <td>1</td>\n",
       "      <td>1</td>\n",
       "      <td>12</td>\n",
       "      <td>98</td>\n",
       "      <td>43</td>\n",
       "      <td>0</td>\n",
       "      <td>0</td>\n",
       "      <td>11</td>\n",
       "      <td>3</td>\n",
       "      <td>2</td>\n",
       "      <td>0</td>\n",
       "      <td>0</td>\n",
       "      <td>163</td>\n",
       "      <td>62</td>\n",
       "      <td>72</td>\n",
       "      <td>129</td>\n",
       "    </tr>\n",
       "    <tr>\n",
       "      <td>2</td>\n",
       "      <td>3</td>\n",
       "      <td>12</td>\n",
       "      <td>488</td>\n",
       "      <td>957</td>\n",
       "      <td>0</td>\n",
       "      <td>0</td>\n",
       "      <td>11</td>\n",
       "      <td>3</td>\n",
       "      <td>3</td>\n",
       "      <td>0</td>\n",
       "      <td>0</td>\n",
       "      <td>68</td>\n",
       "      <td>43</td>\n",
       "      <td>78</td>\n",
       "      <td>104</td>\n",
       "    </tr>\n",
       "    <tr>\n",
       "      <td>3</td>\n",
       "      <td>11</td>\n",
       "      <td>12</td>\n",
       "      <td>795</td>\n",
       "      <td>82</td>\n",
       "      <td>0</td>\n",
       "      <td>0</td>\n",
       "      <td>11</td>\n",
       "      <td>3</td>\n",
       "      <td>5</td>\n",
       "      <td>0</td>\n",
       "      <td>0</td>\n",
       "      <td>377</td>\n",
       "      <td>95</td>\n",
       "      <td>87</td>\n",
       "      <td>364</td>\n",
       "    </tr>\n",
       "    <tr>\n",
       "      <td>4</td>\n",
       "      <td>13</td>\n",
       "      <td>12</td>\n",
       "      <td>388</td>\n",
       "      <td>973</td>\n",
       "      <td>0</td>\n",
       "      <td>0</td>\n",
       "      <td>11</td>\n",
       "      <td>3</td>\n",
       "      <td>2</td>\n",
       "      <td>0</td>\n",
       "      <td>0</td>\n",
       "      <td>559</td>\n",
       "      <td>81</td>\n",
       "      <td>91</td>\n",
       "      <td>393</td>\n",
       "    </tr>\n",
       "  </tbody>\n",
       "</table>\n",
       "</div>"
      ],
      "text/plain": [
       "   id  campaign_id  coupon_id  customer_id  redemption_status  campaign_type  \\\n",
       "0   0           12         26          960                  0              0   \n",
       "1   1           12         98           43                  0              0   \n",
       "2   3           12        488          957                  0              0   \n",
       "3  11           12        795           82                  0              0   \n",
       "4  13           12        388          973                  0              0   \n",
       "\n",
       "   start_date  end_date  coupon_item_count  coupon_item_brand  \\\n",
       "0          11         3                 88                  1   \n",
       "1          11         3                  2                  0   \n",
       "2          11         3                  3                  0   \n",
       "3          11         3                  5                  0   \n",
       "4          11         3                  2                  0   \n",
       "\n",
       "   coupon_item_brand_type  customer_transaction_count  transaction_start_date  \\\n",
       "0                       0                         114                       8   \n",
       "1                       0                         163                      62   \n",
       "2                       0                          68                      43   \n",
       "3                       0                         377                      95   \n",
       "4                       0                         559                      81   \n",
       "\n",
       "   transaction_end_date  transaction_unique_item  \n",
       "0                    90                       97  \n",
       "1                    72                      129  \n",
       "2                    78                      104  \n",
       "3                    87                      364  \n",
       "4                    91                      393  "
      ]
     },
     "execution_count": 40,
     "metadata": {},
     "output_type": "execute_result"
    }
   ],
   "source": [
    "df_train_data_merged.head()"
   ]
  },
  {
   "cell_type": "code",
   "execution_count": 41,
   "metadata": {},
   "outputs": [],
   "source": [
    "from sklearn.model_selection import train_test_split\n",
    "from sklearn.ensemble import RandomForestClassifier as RFC\n",
    "from sklearn.svm import SVC\n",
    "from sklearn.metrics import accuracy_score, balanced_accuracy_score, recall_score, precision_score, f1_score"
   ]
  },
  {
   "cell_type": "code",
   "execution_count": 42,
   "metadata": {},
   "outputs": [],
   "source": [
    "df_train_data_merged_X = df_train_data_merged.drop(['id', 'campaign_id', 'coupon_id', 'customer_id', 'redemption_status'], axis=1)\n",
    "df_train_data_merged_y = df_train_data_merged['redemption_status']"
   ]
  },
  {
   "cell_type": "code",
   "execution_count": 43,
   "metadata": {},
   "outputs": [
    {
     "name": "stdout",
     "output_type": "stream",
     "text": [
      "(62695, 10) (62695,)\n",
      "(15674, 10) (15674,)\n"
     ]
    }
   ],
   "source": [
    "x_train, x_test, y_train, y_test = train_test_split(df_train_data_merged_X, df_train_data_merged_y, random_state=0, test_size=.2, stratify=df_train_data_merged_y)\n",
    "\n",
    "print(x_train.shape, y_train.shape)\n",
    "print(x_test.shape, y_test.shape)"
   ]
  },
  {
   "cell_type": "code",
   "execution_count": null,
   "metadata": {},
   "outputs": [],
   "source": [
    "rfc_model_1 = RFC(random_state=0)\n",
    "rfc_model_1.fit(x_train, y_train)\n",
    "rfc_model_1_y_hat = rfc_model_1.predict(x_test)\n",
    "rfc_model_1_accuracy = accuracy_score(y_test, rfc_model_1_y_hat)\n",
    "rfc_model_1_balanced_accuracy = balanced_accuracy_score(y_test, rfc_model_1_y_hat)\n",
    "rfc_model_1_recall = recall_score(y_test, rfc_model_1_y_hat, average='micro')\n",
    "rfc_model_1_precision = precision_score(y_test, rfc_model_1_y_hat, average='micro')\n",
    "rfc_model_1_f1 = f1_score(y_test, rfc_model_1_y_hat, average='micro')\n",
    "\n",
    "svc_model_1 = SVC(random_state=0)\n",
    "svc_model_1.fit(x_train, y_train)\n",
    "svc_model_1_y_hat = svc_model_1.predict(x_test)\n",
    "svc_model_1_accuracy = accuracy_score(y_test, svc_model_1_y_hat)\n",
    "svc_model_1_balanced_accuracy = balanced_accuracy_score(y_test, svc_model_1_y_hat)\n",
    "svc_model_1_recall = recall_score(y_test, svc_model_1_y_hat, average='micro')\n",
    "svc_model_1_precision = precision_score(y_test, svc_model_1_y_hat, average='micro')\n",
    "svc_model_1_f1 = f1_score(y_test, svc_model_1_y_hat, average='micro')"
   ]
  },
  {
   "cell_type": "code",
   "execution_count": null,
   "metadata": {},
   "outputs": [],
   "source": [
    "model_names = ['rfc_model_1', 'svc_model_1']\n",
    "accuracy_scores = [rfc_model_1_accuracy, svc_model_1_accuracy]\n",
    "balanced_accuracy_scores = [rfc_model_1_balanced_accuracy, svc_model_1_balanced_accuracy]\n",
    "recall_scores = [rfc_model_1_recall, svc_model_1_recall]\n",
    "precision_scores = [rfc_model_1_precision, svc_model_1_precision]\n",
    "f1_scores = [rfc_model_1_f1, svc_model_1_f1]\n",
    "df_model_evaluation = pd.DataFrame({'model_name': model_names, 'accuracy_score': accuracy_scores, 'balanced_accuracy_score': balanced_accuracy_scores, 'recall_score': recall_scores, 'precision_score': precision_scores, 'f1_score': f1_scores})\n",
    "df_model_evaluation"
   ]
  },
  {
   "cell_type": "code",
   "execution_count": null,
   "metadata": {},
   "outputs": [],
   "source": [
    "df_train_data_merged['redemption_status'].value_counts()"
   ]
  },
  {
   "cell_type": "code",
   "execution_count": null,
   "metadata": {},
   "outputs": [],
   "source": [
    "from sklearn.model_selection import GridSearchCV\n",
    "\n",
    "rfc_hyperparameters_grid = {\n",
    "    'n_estimators': [10, 50, 100, 200, 500],\n",
    "    'criterion': ['gini', 'entropy'], \n",
    "    'max_depth': [None, 2, 4, 8, 16, 32], \n",
    "    'max_features': [None, 'sqrt', 'log2'],\n",
    "}\n",
    "rfc_model_2 = GridSearchCV(estimator=RFC(random_state=0, class_weight={0:106, 1:1}), param_grid=rfc_hyperparameters_grid, cv=4)\n",
    "rfc_model_2.fit(x_train, y_train)\n",
    "rfc_model_2_y_hat = rfc_model_2.predict(x_test)\n",
    "rfc_model_2_accuracy = accuracy_score(y_test, rfc_model_2_y_hat)\n",
    "\n",
    "svc_hyperparameters_grid = {\n",
    "    'C': [1, 1.1, 1.2, 1.5, 2, 2.5],\n",
    "    'kernel': ['linear', 'poly', 'rbf', 'sigmoid'], \n",
    "}\n",
    "svc_model_2 = GridSearchCV(estimator=SVC(random_state=0, class_weight={0:106, 1:1}), param_grid=svc_hyperparameters_grid, cv=4)\n",
    "svc_model_2.fit(x_train, y_train)\n",
    "svc_model_2_y_hat = svc_model_2.predict(x_test)\n",
    "svc_model_2_accuracy = accuracy_score(y_test, svc_model_2_y_hat)\n",
    "\n",
    "model_names_2 = ['rfc_model_2', 'svc_model_2']\n",
    "accuracy_scores_2 = [rfc_model_2_accuracy, svc_model_2_accuracy]\n",
    "df_model_evaluation_2 = pd.DataFrame({'model_name': model_names_2, 'accuracy_score': accuracy_scores_2})\n",
    "df_model_evaluation = df_model_evaluation.append(df_model_evaluation_2)\n",
    "df_model_evaluation"
   ]
  },
  {
   "cell_type": "code",
   "execution_count": null,
   "metadata": {},
   "outputs": [],
   "source": []
  }
 ],
 "metadata": {
  "kernelspec": {
   "display_name": "Python 3",
   "language": "python",
   "name": "python3"
  },
  "language_info": {
   "codemirror_mode": {
    "name": "ipython",
    "version": 3
   },
   "file_extension": ".py",
   "mimetype": "text/x-python",
   "name": "python",
   "nbconvert_exporter": "python",
   "pygments_lexer": "ipython3",
   "version": "3.7.4"
  }
 },
 "nbformat": 4,
 "nbformat_minor": 2
}
